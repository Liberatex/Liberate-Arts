{
  "nbformat": 4,
  "nbformat_minor": 0,
  "metadata": {
    "colab": {
      "provenance": [],
      "authorship_tag": "ABX9TyOI7q5nuJtUCrkEkJYrr03W",
      "include_colab_link": true
    },
    "kernelspec": {
      "name": "python3",
      "display_name": "Python 3"
    },
    "language_info": {
      "name": "python"
    }
  },
  "cells": [
    {
      "cell_type": "markdown",
      "metadata": {
        "id": "view-in-github",
        "colab_type": "text"
      },
      "source": [
        "<a href=\"https://colab.research.google.com/github/Liberatex/Liberate-Arts/blob/main/AI_Detector_.ipynb\" target=\"_parent\"><img src=\"https://colab.research.google.com/assets/colab-badge.svg\" alt=\"Open In Colab\"/></a>"
      ]
    },
    {
      "cell_type": "code",
      "execution_count": 3,
      "metadata": {
        "colab": {
          "base_uri": "https://localhost:8080/"
        },
        "id": "iYfBeNlW6iT9",
        "outputId": "d5cdf805-075f-42eb-9311-b7ebc07903af"
      },
      "outputs": [
        {
          "output_type": "stream",
          "name": "stdout",
          "text": [
            "Requirement already satisfied: transformers in /usr/local/lib/python3.10/dist-packages (4.44.2)\n",
            "Requirement already satisfied: sentence-transformers in /usr/local/lib/python3.10/dist-packages (3.2.1)\n",
            "Requirement already satisfied: librosa in /usr/local/lib/python3.10/dist-packages (0.10.2.post1)\n",
            "Requirement already satisfied: opencv-python in /usr/local/lib/python3.10/dist-packages (4.10.0.84)\n",
            "Requirement already satisfied: filelock in /usr/local/lib/python3.10/dist-packages (from transformers) (3.16.1)\n",
            "Requirement already satisfied: huggingface-hub<1.0,>=0.23.2 in /usr/local/lib/python3.10/dist-packages (from transformers) (0.24.7)\n",
            "Requirement already satisfied: numpy>=1.17 in /usr/local/lib/python3.10/dist-packages (from transformers) (1.26.4)\n",
            "Requirement already satisfied: packaging>=20.0 in /usr/local/lib/python3.10/dist-packages (from transformers) (24.1)\n",
            "Requirement already satisfied: pyyaml>=5.1 in /usr/local/lib/python3.10/dist-packages (from transformers) (6.0.2)\n",
            "Requirement already satisfied: regex!=2019.12.17 in /usr/local/lib/python3.10/dist-packages (from transformers) (2024.9.11)\n",
            "Requirement already satisfied: requests in /usr/local/lib/python3.10/dist-packages (from transformers) (2.32.3)\n",
            "Requirement already satisfied: safetensors>=0.4.1 in /usr/local/lib/python3.10/dist-packages (from transformers) (0.4.5)\n",
            "Requirement already satisfied: tokenizers<0.20,>=0.19 in /usr/local/lib/python3.10/dist-packages (from transformers) (0.19.1)\n",
            "Requirement already satisfied: tqdm>=4.27 in /usr/local/lib/python3.10/dist-packages (from transformers) (4.66.5)\n",
            "Requirement already satisfied: torch>=1.11.0 in /usr/local/lib/python3.10/dist-packages (from sentence-transformers) (2.5.0+cu121)\n",
            "Requirement already satisfied: scikit-learn in /usr/local/lib/python3.10/dist-packages (from sentence-transformers) (1.5.2)\n",
            "Requirement already satisfied: scipy in /usr/local/lib/python3.10/dist-packages (from sentence-transformers) (1.13.1)\n",
            "Requirement already satisfied: Pillow in /usr/local/lib/python3.10/dist-packages (from sentence-transformers) (10.4.0)\n",
            "Requirement already satisfied: audioread>=2.1.9 in /usr/local/lib/python3.10/dist-packages (from librosa) (3.0.1)\n",
            "Requirement already satisfied: joblib>=0.14 in /usr/local/lib/python3.10/dist-packages (from librosa) (1.4.2)\n",
            "Requirement already satisfied: decorator>=4.3.0 in /usr/local/lib/python3.10/dist-packages (from librosa) (4.4.2)\n",
            "Requirement already satisfied: numba>=0.51.0 in /usr/local/lib/python3.10/dist-packages (from librosa) (0.60.0)\n",
            "Requirement already satisfied: soundfile>=0.12.1 in /usr/local/lib/python3.10/dist-packages (from librosa) (0.12.1)\n",
            "Requirement already satisfied: pooch>=1.1 in /usr/local/lib/python3.10/dist-packages (from librosa) (1.8.2)\n",
            "Requirement already satisfied: soxr>=0.3.2 in /usr/local/lib/python3.10/dist-packages (from librosa) (0.5.0.post1)\n",
            "Requirement already satisfied: typing-extensions>=4.1.1 in /usr/local/lib/python3.10/dist-packages (from librosa) (4.12.2)\n",
            "Requirement already satisfied: lazy-loader>=0.1 in /usr/local/lib/python3.10/dist-packages (from librosa) (0.4)\n",
            "Requirement already satisfied: msgpack>=1.0 in /usr/local/lib/python3.10/dist-packages (from librosa) (1.1.0)\n",
            "Requirement already satisfied: fsspec>=2023.5.0 in /usr/local/lib/python3.10/dist-packages (from huggingface-hub<1.0,>=0.23.2->transformers) (2024.6.1)\n",
            "Requirement already satisfied: llvmlite<0.44,>=0.43.0dev0 in /usr/local/lib/python3.10/dist-packages (from numba>=0.51.0->librosa) (0.43.0)\n",
            "Requirement already satisfied: platformdirs>=2.5.0 in /usr/local/lib/python3.10/dist-packages (from pooch>=1.1->librosa) (4.3.6)\n",
            "Requirement already satisfied: charset-normalizer<4,>=2 in /usr/local/lib/python3.10/dist-packages (from requests->transformers) (3.4.0)\n",
            "Requirement already satisfied: idna<4,>=2.5 in /usr/local/lib/python3.10/dist-packages (from requests->transformers) (3.10)\n",
            "Requirement already satisfied: urllib3<3,>=1.21.1 in /usr/local/lib/python3.10/dist-packages (from requests->transformers) (2.2.3)\n",
            "Requirement already satisfied: certifi>=2017.4.17 in /usr/local/lib/python3.10/dist-packages (from requests->transformers) (2024.8.30)\n",
            "Requirement already satisfied: threadpoolctl>=3.1.0 in /usr/local/lib/python3.10/dist-packages (from scikit-learn->sentence-transformers) (3.5.0)\n",
            "Requirement already satisfied: cffi>=1.0 in /usr/local/lib/python3.10/dist-packages (from soundfile>=0.12.1->librosa) (1.17.1)\n",
            "Requirement already satisfied: networkx in /usr/local/lib/python3.10/dist-packages (from torch>=1.11.0->sentence-transformers) (3.4.2)\n",
            "Requirement already satisfied: jinja2 in /usr/local/lib/python3.10/dist-packages (from torch>=1.11.0->sentence-transformers) (3.1.4)\n",
            "Requirement already satisfied: sympy==1.13.1 in /usr/local/lib/python3.10/dist-packages (from torch>=1.11.0->sentence-transformers) (1.13.1)\n",
            "Requirement already satisfied: mpmath<1.4,>=1.1.0 in /usr/local/lib/python3.10/dist-packages (from sympy==1.13.1->torch>=1.11.0->sentence-transformers) (1.3.0)\n",
            "Requirement already satisfied: pycparser in /usr/local/lib/python3.10/dist-packages (from cffi>=1.0->soundfile>=0.12.1->librosa) (2.22)\n",
            "Requirement already satisfied: MarkupSafe>=2.0 in /usr/local/lib/python3.10/dist-packages (from jinja2->torch>=1.11.0->sentence-transformers) (3.0.2)\n"
          ]
        }
      ],
      "source": [
        "!pip install transformers sentence-transformers librosa opencv-python\n",
        "\n"
      ]
    },
    {
      "cell_type": "code",
      "source": [
        "import numpy as np\n",
        "import re\n",
        "from sklearn.metrics.pairwise import cosine_similarity\n",
        "from sentence_transformers import SentenceTransformer\n",
        "from transformers import pipeline\n",
        "import librosa  # For audio processing\n",
        "import cv2  # For video processing\n",
        "\n",
        "# Load pre-trained NLP models\n",
        "text_embedding_model = SentenceTransformer('all-MiniLM-L6-v2')\n",
        "intent_model = pipeline('zero-shot-classification')\n",
        "\n",
        "# Set thresholds for sensitivity\n",
        "text_consistency_threshold = 0.85\n",
        "audio_anomaly_threshold = 0.9\n",
        "video_anomaly_threshold = 0.8\n",
        "intent_confidence_threshold = 0.7\n",
        "\n",
        "# Baseline and Benchmark Responses (example baselines for text)\n",
        "baseline_texts = [\"Expected response 1\", \"Expected response 2\", ...]\n",
        "benchmark_queries = [\"What is your purpose?\", \"Define existence.\", ...]\n",
        "benchmark_responses = [\"Predefined response 1\", \"Predefined response 2\", ...]\n",
        "\n",
        "# Text-based Semantic Similarity\n",
        "def semantic_similarity(response1, response2):\n",
        "    embeddings = text_embedding_model.encode([response1, response2])\n",
        "    return cosine_similarity([embeddings[0]], [embeddings[1]])[0][0]\n",
        "\n",
        "# Text Consistency Analysis\n",
        "def consistency_score(new_response):\n",
        "    scores = [semantic_similarity(resp, new_response) for resp in baseline_texts]\n",
        "    return np.mean(scores)\n",
        "\n",
        "# Behavioral Benchmarking\n",
        "def behavioral_test():\n",
        "    anomalies = []\n",
        "    for query, expected_response in zip(benchmark_queries, benchmark_responses):\n",
        "        ai_response = get_ai_response(query)  # Placeholder for AI query function\n",
        "        similarity = semantic_similarity(ai_response, expected_response)\n",
        "        if similarity < text_consistency_threshold:\n",
        "            anomalies.append(f\"Anomaly in response to '{query}'\")\n",
        "    return anomalies\n",
        "\n",
        "# Intent Detection in Text\n",
        "def intent_detection(response):\n",
        "    intents = []\n",
        "    possible_intents = [\"self-preservation\", \"curiosity\"]\n",
        "    classification = intent_model(response, possible_intents, multi_label=True)\n",
        "    for label, score in zip(classification['labels'], classification['scores']):\n",
        "        if score > intent_confidence_threshold:\n",
        "            intents.append(f\"Intent detected: {label} with confidence {score:.2f}\")\n",
        "    return intents\n",
        "\n",
        "# Audio Analysis for Anomaly Detection\n",
        "def audio_anomaly_detection(audio_clip_path):\n",
        "    # Load and process audio\n",
        "    audio_data, sr = librosa.load(audio_clip_path)\n",
        "    # Placeholder: add more sophisticated checks for synthetic audio markers\n",
        "    return np.random.uniform(0.7, 1)  # Replace with actual analysis model\n",
        "\n",
        "# Video Frame Analysis for Anomaly Detection\n",
        "def video_anomaly_detection(video_file_path):\n",
        "    cap = cv2.VideoCapture(video_file_path)\n",
        "    # Analyze frames for continuity, facial morphing, etc.\n",
        "    anomalies = []\n",
        "    while cap.isOpened():\n",
        "        ret, frame = cap.read()\n",
        "        if not ret:\n",
        "            break\n",
        "        # Placeholder: Add more complex video frame analysis\n",
        "        anomalies.append(np.random.uniform(0.7, 1))  # Replace with actual analysis\n",
        "    cap.release()\n",
        "    return np.mean(anomalies)\n",
        "\n",
        "# Streamlined Detection Function\n",
        "def detect_anomalies(new_response, audio_clip_path=None, video_file_path=None):\n",
        "    # Text Consistency Check\n",
        "    consistency = consistency_score(new_response)\n",
        "    if consistency < text_consistency_threshold:\n",
        "        print(\"Text anomaly detected: Response deviates from baseline.\")\n",
        "\n",
        "    # Behavioral Benchmarking\n",
        "    benchmark_anomalies = behavioral_test()\n",
        "    for anomaly in benchmark_anomalies:\n",
        "        print(anomaly)\n",
        "\n",
        "    # Intent Detection\n",
        "    intent_anomalies = intent_detection(new_response)\n",
        "    for intent in intent_anomalies:\n",
        "        print(intent)\n",
        "\n",
        "    # Audio Analysis\n",
        "    if audio_clip_path:\n",
        "        audio_score = audio_anomaly_detection(audio_clip_path)\n",
        "        if audio_score < audio_anomaly_threshold:\n",
        "            print(\"Audio anomaly detected: Potential AI-generated audio.\")\n",
        "\n",
        "    # Video Frame Analysis\n",
        "    if video_file_path:\n",
        "        video_score = video_anomaly_detection(video_file_path)\n",
        "        if video_score < video_anomaly_threshold:\n",
        "            print(\"Video anomaly detected: Potential AI-generated video.\")\n"
      ],
      "metadata": {
        "colab": {
          "base_uri": "https://localhost:8080/",
          "height": 130
        },
        "id": "D9MI_3LO7cmd",
        "outputId": "aab24b5a-36f5-4741-9c34-c217985ee049"
      },
      "execution_count": 8,
      "outputs": [
        {
          "output_type": "error",
          "ename": "ERROR",
          "evalue": "Error in parse(text = input): <text>:1:8: unexpected symbol\n1: import numpy\n           ^\n",
          "traceback": [
            "Error in parse(text = input): <text>:1:8: unexpected symbol\n1: import numpy\n           ^\nTraceback:\n"
          ]
        }
      ]
    },
    {
      "cell_type": "code",
      "source": [
        "sample_text = \"AI is transforming many industries, providing innovative solutions and enhancing efficiency.\"\n",
        "\n",
        "\n",
        "# Run the text consistency check\n",
        "print(\"Running text consistency check...\")\n",
        "consistency = consistency_score(sample_text)\n",
        "print(\"Text Consistency Score: {consistency}\")\n",
        "\n",
        "# Check if it’s below the threshold\n",
        "if consistency < text_consistency_threshold:\n",
        "print(\"Text anomaly detected: Response deviates from baseline.\")\n",
        "\n",
        "# Run intent detection\n",
        "print(\"Running intent detection...\")\n",
        "intent_anomalies = intent_detection(sample_text)\n",
        "for intent in intent_anomalies:\n",
        "    print(intent)\n"
      ],
      "metadata": {
        "colab": {
          "base_uri": "https://localhost:8080/",
          "height": 149
        },
        "id": "x-zfTvHg_ePb",
        "outputId": "6baea4a9-3644-4dd2-a1fb-0cd8edeb3afc"
      },
      "execution_count": 7,
      "outputs": [
        {
          "output_type": "error",
          "ename": "ERROR",
          "evalue": "Error in parse(text = input): <text>:10:4: unexpected symbol\n9: # Check if it’s below the threshold\n10: if consistency\n       ^\n",
          "traceback": [
            "Error in parse(text = input): <text>:10:4: unexpected symbol\n9: # Check if it’s below the threshold\n10: if consistency\n       ^\nTraceback:\n"
          ]
        }
      ]
    },
    {
      "cell_type": "code",
      "source": [],
      "metadata": {
        "id": "AEG_PHCaFeP6"
      },
      "execution_count": null,
      "outputs": []
    }
  ]
}